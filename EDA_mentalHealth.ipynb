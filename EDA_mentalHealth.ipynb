{
 "cells": [
  {
   "cell_type": "code",
   "execution_count": 2,
   "metadata": {},
   "outputs": [],
   "source": [
    "import pandas as pd\n",
    "import numpy as np\n",
    "import matplotlib.pyplot as plt\n",
    "import seaborn as sns\n",
    "data =pd.read_csv('C:/Users/saksh/Desktop/Personal Projects/Mental Health/clean.csv')\n"
   ]
  },
  {
   "cell_type": "code",
   "execution_count": 4,
   "metadata": {},
   "outputs": [
    {
     "data": {
      "text/plain": [
       "(1252, 27)"
      ]
     },
     "execution_count": 4,
     "metadata": {},
     "output_type": "execute_result"
    }
   ],
   "source": [
    "#rows and columns\n",
    "data.shape"
   ]
  },
  {
   "cell_type": "code",
   "execution_count": 6,
   "metadata": {},
   "outputs": [
    {
     "name": "stdout",
     "output_type": "stream",
     "text": [
      "<class 'pandas.core.frame.DataFrame'>\n",
      "RangeIndex: 1252 entries, 0 to 1251\n",
      "Data columns (total 27 columns):\n",
      "Unnamed: 0                   1252 non-null int64\n",
      "Timestamp                    1252 non-null object\n",
      "Age                          1252 non-null int64\n",
      "Gender                       1252 non-null object\n",
      "self_employed                1252 non-null object\n",
      "family_history               1252 non-null object\n",
      "treatment                    1252 non-null object\n",
      "work_interfere               1252 non-null object\n",
      "no_employees                 1252 non-null int64\n",
      "remote_work                  1252 non-null object\n",
      "tech_company                 1252 non-null object\n",
      "benefits                     1252 non-null object\n",
      "care_options                 1252 non-null object\n",
      "wellness_program             1252 non-null object\n",
      "seek_help                    1252 non-null object\n",
      "anonymity                    1252 non-null object\n",
      "leave                        1252 non-null int64\n",
      "mental_health_consequence    1252 non-null object\n",
      "phys_health_consequence      1252 non-null object\n",
      "coworkers                    1252 non-null object\n",
      "supervisor                   1252 non-null object\n",
      "mental_health_interview      1252 non-null object\n",
      "phys_health_interview        1252 non-null object\n",
      "mental_vs_physical           1252 non-null object\n",
      "obs_consequence              1252 non-null object\n",
      "comments                     1252 non-null object\n",
      "Gender_bin                   1252 non-null object\n",
      "dtypes: int64(4), object(23)\n",
      "memory usage: 264.2+ KB\n"
     ]
    }
   ],
   "source": [
    "data.info()\n",
    "#this should have no null values as we already imputed those in the data cleaning process."
   ]
  },
  {
   "cell_type": "code",
   "execution_count": 7,
   "metadata": {},
   "outputs": [
    {
     "data": {
      "text/plain": [
       "Unnamed: 0                    int64\n",
       "Timestamp                    object\n",
       "Age                           int64\n",
       "Gender                       object\n",
       "self_employed                object\n",
       "family_history               object\n",
       "treatment                    object\n",
       "work_interfere               object\n",
       "no_employees                  int64\n",
       "remote_work                  object\n",
       "tech_company                 object\n",
       "benefits                     object\n",
       "care_options                 object\n",
       "wellness_program             object\n",
       "seek_help                    object\n",
       "anonymity                    object\n",
       "leave                         int64\n",
       "mental_health_consequence    object\n",
       "phys_health_consequence      object\n",
       "coworkers                    object\n",
       "supervisor                   object\n",
       "mental_health_interview      object\n",
       "phys_health_interview        object\n",
       "mental_vs_physical           object\n",
       "obs_consequence              object\n",
       "comments                     object\n",
       "Gender_bin                   object\n",
       "dtype: object"
      ]
     },
     "execution_count": 7,
     "metadata": {},
     "output_type": "execute_result"
    }
   ],
   "source": [
    "\n",
    "#to see the diff types of values\n",
    "data.dtypes\n"
   ]
  },
  {
   "cell_type": "code",
   "execution_count": 9,
   "metadata": {},
   "outputs": [
    {
     "data": {
      "text/plain": [
       "Yes    633\n",
       "No     619\n",
       "Name: treatment, dtype: int64"
      ]
     },
     "execution_count": 9,
     "metadata": {},
     "output_type": "execute_result"
    }
   ],
   "source": [
    "data[\"treatment\"]\n",
    "#to summarize the content\n",
    "data[\"treatment\"].value_counts()\n",
    "#the data is so beautifully balanced :) such a delight"
   ]
  },
  {
   "cell_type": "code",
   "execution_count": 10,
   "metadata": {},
   "outputs": [
    {
     "data": {
      "text/plain": [
       "<matplotlib.axes._subplots.AxesSubplot at 0x21b95b1c9b0>"
      ]
     },
     "execution_count": 10,
     "metadata": {},
     "output_type": "execute_result"
    },
    {
     "data": {
      "image/png": "[encoded data removed]",
      "text/plain": [
       "<Figure size 432x288 with 1 Axes>"
      ]
     },
     "metadata": {
      "needs_background": "light"
     },
     "output_type": "display_data"
    }
   ],
   "source": [
    "data[\"treatment\"].value_counts(normalize=True)*100\n",
    "#to visualize the outcome variable\n",
    "sns.countplot(data[\"treatment\"])\n"
   ]
  },
  {
   "cell_type": "code",
   "execution_count": 12,
   "metadata": {},
   "outputs": [
    {
     "data": {
      "text/plain": [
       "<matplotlib.axes._subplots.AxesSubplot at 0x21b96052940>"
      ]
     },
     "execution_count": 12,
     "metadata": {},
     "output_type": "execute_result"
    },
    {
     "data": {
      "image/png": "[encoded data removed]",
      "text/plain": [
       "<Figure size 432x288 with 1 Axes>"
      ]
     },
     "metadata": {
      "needs_background": "light"
     },
     "output_type": "display_data"
    }
   ],
   "source": [
    "sns.countplot(x=\"Gender_bin\",hue=\"treatment\",data=data)\n",
    "#this shows that on an average Females and others are more likely to suffer from Mental disorders"
   ]
  },
  {
   "cell_type": "code",
   "execution_count": 14,
   "metadata": {},
   "outputs": [
    {
     "data": {
      "text/html": [
       "<div>\n",
       "<style scoped>\n",
       "    .dataframe tbody tr th:only-of-type {\n",
       "        vertical-align: middle;\n",
       "    }\n",
       "\n",
       "    .dataframe tbody tr th {\n",
       "        vertical-align: top;\n",
       "    }\n",
       "\n",
       "    .dataframe thead th {\n",
       "        text-align: right;\n",
       "    }\n",
       "</style>\n",
       "<table border=\"1\" class=\"dataframe\">\n",
       "  <thead>\n",
       "    <tr style=\"text-align: right;\">\n",
       "      <th>Gender_bin</th>\n",
       "      <th>Female</th>\n",
       "      <th>Male</th>\n",
       "      <th>Others</th>\n",
       "    </tr>\n",
       "    <tr>\n",
       "      <th>treatment</th>\n",
       "      <th></th>\n",
       "      <th></th>\n",
       "      <th></th>\n",
       "    </tr>\n",
       "  </thead>\n",
       "  <tbody>\n",
       "    <tr>\n",
       "      <th>No</th>\n",
       "      <td>0.310757</td>\n",
       "      <td>0.545547</td>\n",
       "      <td>0.153846</td>\n",
       "    </tr>\n",
       "    <tr>\n",
       "      <th>Yes</th>\n",
       "      <td>0.689243</td>\n",
       "      <td>0.454453</td>\n",
       "      <td>0.846154</td>\n",
       "    </tr>\n",
       "  </tbody>\n",
       "</table>\n",
       "</div>"
      ],
      "text/plain": [
       "Gender_bin    Female      Male    Others\n",
       "treatment                               \n",
       "No          0.310757  0.545547  0.153846\n",
       "Yes         0.689243  0.454453  0.846154"
      ]
     },
     "execution_count": 14,
     "metadata": {},
     "output_type": "execute_result"
    }
   ],
   "source": [
    "# Clearly Other genders and females have a hard time here.\n",
    "pd.crosstab(data[\"treatment\"],data[(\"Gender_bin\")]).apply(lambda r: r/r.sum(), axis=0)\n"
   ]
  },
  {
   "cell_type": "code",
   "execution_count": 15,
   "metadata": {},
   "outputs": [
    {
     "data": {
      "text/html": [
       "<div>\n",
       "<style scoped>\n",
       "    .dataframe tbody tr th:only-of-type {\n",
       "        vertical-align: middle;\n",
       "    }\n",
       "\n",
       "    .dataframe tbody tr th {\n",
       "        vertical-align: top;\n",
       "    }\n",
       "\n",
       "    .dataframe thead th {\n",
       "        text-align: right;\n",
       "    }\n",
       "</style>\n",
       "<table border=\"1\" class=\"dataframe\">\n",
       "  <thead>\n",
       "    <tr style=\"text-align: right;\">\n",
       "      <th></th>\n",
       "      <th>Unnamed: 0</th>\n",
       "      <th>Age</th>\n",
       "      <th>no_employees</th>\n",
       "      <th>leave</th>\n",
       "    </tr>\n",
       "  </thead>\n",
       "  <tbody>\n",
       "    <tr>\n",
       "      <th>count</th>\n",
       "      <td>1252.000000</td>\n",
       "      <td>1252.000000</td>\n",
       "      <td>1252.000000</td>\n",
       "      <td>1252.000000</td>\n",
       "    </tr>\n",
       "    <tr>\n",
       "      <th>mean</th>\n",
       "      <td>628.373003</td>\n",
       "      <td>32.313898</td>\n",
       "      <td>3.837061</td>\n",
       "      <td>1.194888</td>\n",
       "    </tr>\n",
       "    <tr>\n",
       "      <th>std</th>\n",
       "      <td>363.611597</td>\n",
       "      <td>11.112809</td>\n",
       "      <td>2.149631</td>\n",
       "      <td>1.311709</td>\n",
       "    </tr>\n",
       "    <tr>\n",
       "      <th>min</th>\n",
       "      <td>0.000000</td>\n",
       "      <td>18.000000</td>\n",
       "      <td>1.000000</td>\n",
       "      <td>0.000000</td>\n",
       "    </tr>\n",
       "    <tr>\n",
       "      <th>25%</th>\n",
       "      <td>313.750000</td>\n",
       "      <td>27.000000</td>\n",
       "      <td>2.000000</td>\n",
       "      <td>0.000000</td>\n",
       "    </tr>\n",
       "    <tr>\n",
       "      <th>50%</th>\n",
       "      <td>627.500000</td>\n",
       "      <td>31.000000</td>\n",
       "      <td>3.000000</td>\n",
       "      <td>1.000000</td>\n",
       "    </tr>\n",
       "    <tr>\n",
       "      <th>75%</th>\n",
       "      <td>942.250000</td>\n",
       "      <td>36.000000</td>\n",
       "      <td>6.000000</td>\n",
       "      <td>2.000000</td>\n",
       "    </tr>\n",
       "    <tr>\n",
       "      <th>max</th>\n",
       "      <td>1258.000000</td>\n",
       "      <td>329.000000</td>\n",
       "      <td>7.000000</td>\n",
       "      <td>4.000000</td>\n",
       "    </tr>\n",
       "  </tbody>\n",
       "</table>\n",
       "</div>"
      ],
      "text/plain": [
       "        Unnamed: 0          Age  no_employees        leave\n",
       "count  1252.000000  1252.000000   1252.000000  1252.000000\n",
       "mean    628.373003    32.313898      3.837061     1.194888\n",
       "std     363.611597    11.112809      2.149631     1.311709\n",
       "min       0.000000    18.000000      1.000000     0.000000\n",
       "25%     313.750000    27.000000      2.000000     0.000000\n",
       "50%     627.500000    31.000000      3.000000     1.000000\n",
       "75%     942.250000    36.000000      6.000000     2.000000\n",
       "max    1258.000000   329.000000      7.000000     4.000000"
      ]
     },
     "execution_count": 15,
     "metadata": {},
     "output_type": "execute_result"
    }
   ],
   "source": [
    "data.describe()\n",
    "#there doesnt seem to be any outliers except \"Age\". Lets just remove that row.\n"
   ]
  },
  {
   "cell_type": "code",
   "execution_count": 17,
   "metadata": {},
   "outputs": [],
   "source": [
    "data2 = data.drop(data[(data.Age == 329)].index)"
   ]
  },
  {
   "cell_type": "code",
   "execution_count": 18,
   "metadata": {},
   "outputs": [
    {
     "data": {
      "text/html": [
       "<div>\n",
       "<style scoped>\n",
       "    .dataframe tbody tr th:only-of-type {\n",
       "        vertical-align: middle;\n",
       "    }\n",
       "\n",
       "    .dataframe tbody tr th {\n",
       "        vertical-align: top;\n",
       "    }\n",
       "\n",
       "    .dataframe thead th {\n",
       "        text-align: right;\n",
       "    }\n",
       "</style>\n",
       "<table border=\"1\" class=\"dataframe\">\n",
       "  <thead>\n",
       "    <tr style=\"text-align: right;\">\n",
       "      <th></th>\n",
       "      <th>Unnamed: 0</th>\n",
       "      <th>Age</th>\n",
       "      <th>no_employees</th>\n",
       "      <th>leave</th>\n",
       "    </tr>\n",
       "  </thead>\n",
       "  <tbody>\n",
       "    <tr>\n",
       "      <th>count</th>\n",
       "      <td>1251.000000</td>\n",
       "      <td>1251.000000</td>\n",
       "      <td>1251.000000</td>\n",
       "      <td>1251.000000</td>\n",
       "    </tr>\n",
       "    <tr>\n",
       "      <th>mean</th>\n",
       "      <td>628.584333</td>\n",
       "      <td>32.076739</td>\n",
       "      <td>3.838529</td>\n",
       "      <td>1.195843</td>\n",
       "    </tr>\n",
       "    <tr>\n",
       "      <th>std</th>\n",
       "      <td>363.680086</td>\n",
       "      <td>7.288272</td>\n",
       "      <td>2.149862</td>\n",
       "      <td>1.311798</td>\n",
       "    </tr>\n",
       "    <tr>\n",
       "      <th>min</th>\n",
       "      <td>0.000000</td>\n",
       "      <td>18.000000</td>\n",
       "      <td>1.000000</td>\n",
       "      <td>0.000000</td>\n",
       "    </tr>\n",
       "    <tr>\n",
       "      <th>25%</th>\n",
       "      <td>313.500000</td>\n",
       "      <td>27.000000</td>\n",
       "      <td>2.000000</td>\n",
       "      <td>0.000000</td>\n",
       "    </tr>\n",
       "    <tr>\n",
       "      <th>50%</th>\n",
       "      <td>628.000000</td>\n",
       "      <td>31.000000</td>\n",
       "      <td>3.000000</td>\n",
       "      <td>1.000000</td>\n",
       "    </tr>\n",
       "    <tr>\n",
       "      <th>75%</th>\n",
       "      <td>942.500000</td>\n",
       "      <td>36.000000</td>\n",
       "      <td>6.000000</td>\n",
       "      <td>2.000000</td>\n",
       "    </tr>\n",
       "    <tr>\n",
       "      <th>max</th>\n",
       "      <td>1258.000000</td>\n",
       "      <td>72.000000</td>\n",
       "      <td>7.000000</td>\n",
       "      <td>4.000000</td>\n",
       "    </tr>\n",
       "  </tbody>\n",
       "</table>\n",
       "</div>"
      ],
      "text/plain": [
       "        Unnamed: 0          Age  no_employees        leave\n",
       "count  1251.000000  1251.000000   1251.000000  1251.000000\n",
       "mean    628.584333    32.076739      3.838529     1.195843\n",
       "std     363.680086     7.288272      2.149862     1.311798\n",
       "min       0.000000    18.000000      1.000000     0.000000\n",
       "25%     313.500000    27.000000      2.000000     0.000000\n",
       "50%     628.000000    31.000000      3.000000     1.000000\n",
       "75%     942.500000    36.000000      6.000000     2.000000\n",
       "max    1258.000000    72.000000      7.000000     4.000000"
      ]
     },
     "execution_count": 18,
     "metadata": {},
     "output_type": "execute_result"
    }
   ],
   "source": [
    "data2.describe()\n",
    "#looks good now."
   ]
  },
  {
   "cell_type": "code",
   "execution_count": 19,
   "metadata": {},
   "outputs": [
    {
     "data": {
      "text/plain": [
       "array([[<matplotlib.axes._subplots.AxesSubplot object at 0x0000021B9612B320>,\n",
       "        <matplotlib.axes._subplots.AxesSubplot object at 0x0000021B9615C668>],\n",
       "       [<matplotlib.axes._subplots.AxesSubplot object at 0x0000021B9618B9E8>,\n",
       "        <matplotlib.axes._subplots.AxesSubplot object at 0x0000021B961BBF98>]],\n",
       "      dtype=object)"
      ]
     },
     "execution_count": 19,
     "metadata": {},
     "output_type": "execute_result"
    },
    {
     "data": {
      "image/png": "[encoded data removed]",
      "text/plain": [
       "<Figure size 432x288 with 4 Axes>"
      ]
     },
     "metadata": {
      "needs_background": "light"
     },
     "output_type": "display_data"
    }
   ],
   "source": [
    "data2.hist()\n"
   ]
  },
  {
   "cell_type": "code",
   "execution_count": 20,
   "metadata": {},
   "outputs": [
    {
     "data": {
      "text/plain": [
       "<matplotlib.axes._subplots.AxesSubplot at 0x21b962b1c88>"
      ]
     },
     "execution_count": 20,
     "metadata": {},
     "output_type": "execute_result"
    },
    {
     "data": {
      "image/png": "[encoded data removed]",
      "text/plain": [
       "<Figure size 432x288 with 1 Axes>"
      ]
     },
     "metadata": {
      "needs_background": "light"
     },
     "output_type": "display_data"
    }
   ],
   "source": [
    "data2.boxplot()\n"
   ]
  },
  {
   "cell_type": "code",
   "execution_count": 21,
   "metadata": {},
   "outputs": [
    {
     "data": {
      "text/plain": [
       "array([[<matplotlib.axes._subplots.AxesSubplot object at 0x0000021B96384240>,\n",
       "        <matplotlib.axes._subplots.AxesSubplot object at 0x0000021B963A7F98>,\n",
       "        <matplotlib.axes._subplots.AxesSubplot object at 0x0000021B963E4550>,\n",
       "        <matplotlib.axes._subplots.AxesSubplot object at 0x0000021B96414B00>],\n",
       "       [<matplotlib.axes._subplots.AxesSubplot object at 0x0000021B964520F0>,\n",
       "        <matplotlib.axes._subplots.AxesSubplot object at 0x0000021B964836A0>,\n",
       "        <matplotlib.axes._subplots.AxesSubplot object at 0x0000021B96070860>,\n",
       "        <matplotlib.axes._subplots.AxesSubplot object at 0x0000021B964CDE48>],\n",
       "       [<matplotlib.axes._subplots.AxesSubplot object at 0x0000021B964CDE80>,\n",
       "        <matplotlib.axes._subplots.AxesSubplot object at 0x0000021B9653A9B0>,\n",
       "        <matplotlib.axes._subplots.AxesSubplot object at 0x0000021B9656EF60>,\n",
       "        <matplotlib.axes._subplots.AxesSubplot object at 0x0000021B965AA550>],\n",
       "       [<matplotlib.axes._subplots.AxesSubplot object at 0x0000021B965DEB00>,\n",
       "        <matplotlib.axes._subplots.AxesSubplot object at 0x0000021B9661C0F0>,\n",
       "        <matplotlib.axes._subplots.AxesSubplot object at 0x0000021B9664D6A0>,\n",
       "        <matplotlib.axes._subplots.AxesSubplot object at 0x0000021B9667EC50>]],\n",
       "      dtype=object)"
      ]
     },
     "execution_count": 21,
     "metadata": {},
     "output_type": "execute_result"
    },
    {
     "data": {
      "image/png": "[encoded data removed]",
      "text/plain": [
       "<Figure size 432x288 with 16 Axes>"
      ]
     },
     "metadata": {
      "needs_background": "light"
     },
     "output_type": "display_data"
    }
   ],
   "source": [
    "data2.plot(kind=\"density\", subplots=True, layout=(4,4),sharex=False)\n"
   ]
  },
  {
   "cell_type": "code",
   "execution_count": 25,
   "metadata": {},
   "outputs": [
    {
     "data": {
      "text/plain": [
       "<matplotlib.axes._subplots.AxesSubplot at 0x21b968318d0>"
      ]
     },
     "execution_count": 25,
     "metadata": {},
     "output_type": "execute_result"
    },
    {
     "data": {
      "image/png": "[encoded data removed]",
      "text/plain": [
       "<Figure size 432x288 with 1 Axes>"
      ]
     },
     "metadata": {
      "needs_background": "light"
     },
     "output_type": "display_data"
    }
   ],
   "source": [
    "sns.boxplot(x=\"no_employees\",y=\"leave\",data=data2)\n",
    "\n",
    "#'1-5': 1, '6-25': 2, '26-100': 3, '100-500': 4,\n",
    "#                                 '100-500': 5, '500-1000': 6, 'More than 1000': 7"
   ]
  },
  {
   "cell_type": "code",
   "execution_count": 26,
   "metadata": {},
   "outputs": [
    {
     "data": {
      "text/plain": [
       "array([[<matplotlib.axes._subplots.AxesSubplot object at 0x0000021B9692C6A0>,\n",
       "        <matplotlib.axes._subplots.AxesSubplot object at 0x0000021B9695A940>,\n",
       "        <matplotlib.axes._subplots.AxesSubplot object at 0x0000021B96989DA0>,\n",
       "        <matplotlib.axes._subplots.AxesSubplot object at 0x0000021B969C5390>],\n",
       "       [<matplotlib.axes._subplots.AxesSubplot object at 0x0000021B969F4940>,\n",
       "        <matplotlib.axes._subplots.AxesSubplot object at 0x0000021B96A27EF0>,\n",
       "        <matplotlib.axes._subplots.AxesSubplot object at 0x0000021B96A644E0>,\n",
       "        <matplotlib.axes._subplots.AxesSubplot object at 0x0000021B96A97AC8>],\n",
       "       [<matplotlib.axes._subplots.AxesSubplot object at 0x0000021B96A97B00>,\n",
       "        <matplotlib.axes._subplots.AxesSubplot object at 0x0000021B96B05630>,\n",
       "        <matplotlib.axes._subplots.AxesSubplot object at 0x0000021B96B37BE0>,\n",
       "        <matplotlib.axes._subplots.AxesSubplot object at 0x0000021B96B761D0>],\n",
       "       [<matplotlib.axes._subplots.AxesSubplot object at 0x0000021B96BA6780>,\n",
       "        <matplotlib.axes._subplots.AxesSubplot object at 0x0000021B96BD8D30>,\n",
       "        <matplotlib.axes._subplots.AxesSubplot object at 0x0000021B96C16320>,\n",
       "        <matplotlib.axes._subplots.AxesSubplot object at 0x0000021B96C458D0>]],\n",
       "      dtype=object)"
      ]
     },
     "execution_count": 26,
     "metadata": {},
     "output_type": "execute_result"
    },
    {
     "data": {
      "image/png": "[encoded data removed]",
      "text/plain": [
       "<Figure size 432x288 with 16 Axes>"
      ]
     },
     "metadata": {
      "needs_background": "light"
     },
     "output_type": "display_data"
    }
   ],
   "source": [
    "from pandas.plotting import  scatter_matrix\n",
    "scatter_matrix(data2)\n"
   ]
  },
  {
   "cell_type": "code",
   "execution_count": 28,
   "metadata": {},
   "outputs": [
    {
     "data": {
      "text/plain": [
       "<matplotlib.axes._subplots.AxesSubplot at 0x21b96e40f60>"
      ]
     },
     "execution_count": 28,
     "metadata": {},
     "output_type": "execute_result"
    },
    {
     "data": {
      "image/png": "[encoded data removed]",
      "text/plain": [
       "<Figure size 432x288 with 1 Axes>"
      ]
     },
     "metadata": {
      "needs_background": "light"
     },
     "output_type": "display_data"
    }
   ],
   "source": [
    "sns.scatterplot(x=\"no_employees\",y=\"leave\",hue=\"treatment\",data=data2)\n",
    "#lower leave may be responsible for mental disorders( pretty intuitive)"
   ]
  },
  {
   "cell_type": "code",
   "execution_count": 29,
   "metadata": {},
   "outputs": [
    {
     "data": {
      "text/html": [
       "<div>\n",
       "<style scoped>\n",
       "    .dataframe tbody tr th:only-of-type {\n",
       "        vertical-align: middle;\n",
       "    }\n",
       "\n",
       "    .dataframe tbody tr th {\n",
       "        vertical-align: top;\n",
       "    }\n",
       "\n",
       "    .dataframe thead th {\n",
       "        text-align: right;\n",
       "    }\n",
       "</style>\n",
       "<table border=\"1\" class=\"dataframe\">\n",
       "  <thead>\n",
       "    <tr style=\"text-align: right;\">\n",
       "      <th></th>\n",
       "      <th>Unnamed: 0</th>\n",
       "      <th>Age</th>\n",
       "      <th>no_employees</th>\n",
       "      <th>leave</th>\n",
       "    </tr>\n",
       "  </thead>\n",
       "  <tbody>\n",
       "    <tr>\n",
       "      <th>Unnamed: 0</th>\n",
       "      <td>1.000000</td>\n",
       "      <td>0.118369</td>\n",
       "      <td>0.032083</td>\n",
       "      <td>-0.001587</td>\n",
       "    </tr>\n",
       "    <tr>\n",
       "      <th>Age</th>\n",
       "      <td>0.118369</td>\n",
       "      <td>1.000000</td>\n",
       "      <td>0.123481</td>\n",
       "      <td>0.021354</td>\n",
       "    </tr>\n",
       "    <tr>\n",
       "      <th>no_employees</th>\n",
       "      <td>0.032083</td>\n",
       "      <td>0.123481</td>\n",
       "      <td>1.000000</td>\n",
       "      <td>-0.131464</td>\n",
       "    </tr>\n",
       "    <tr>\n",
       "      <th>leave</th>\n",
       "      <td>-0.001587</td>\n",
       "      <td>0.021354</td>\n",
       "      <td>-0.131464</td>\n",
       "      <td>1.000000</td>\n",
       "    </tr>\n",
       "  </tbody>\n",
       "</table>\n",
       "</div>"
      ],
      "text/plain": [
       "              Unnamed: 0       Age  no_employees     leave\n",
       "Unnamed: 0      1.000000  0.118369      0.032083 -0.001587\n",
       "Age             0.118369  1.000000      0.123481  0.021354\n",
       "no_employees    0.032083  0.123481      1.000000 -0.131464\n",
       "leave          -0.001587  0.021354     -0.131464  1.000000"
      ]
     },
     "execution_count": 29,
     "metadata": {},
     "output_type": "execute_result"
    }
   ],
   "source": [
    "correlations= data2.corr()\n",
    "correlations\n",
    "\n",
    "#lets encode the categorical variables and do some more EDA"
   ]
  },
  {
   "cell_type": "code",
   "execution_count": 30,
   "metadata": {},
   "outputs": [
    {
     "data": {
      "text/plain": [
       "Unnamed: 0                      int64\n",
       "Timestamp                      object\n",
       "Age                             int64\n",
       "Gender                         object\n",
       "self_employed                  object\n",
       "family_history               category\n",
       "treatment                    category\n",
       "work_interfere               category\n",
       "no_employees                    int64\n",
       "remote_work                  category\n",
       "tech_company                 category\n",
       "benefits                     category\n",
       "care_options                 category\n",
       "wellness_program             category\n",
       "seek_help                    category\n",
       "anonymity                    category\n",
       "leave                           int64\n",
       "mental_health_consequence    category\n",
       "phys_health_consequence      category\n",
       "coworkers                    category\n",
       "supervisor                   category\n",
       "mental_health_interview      category\n",
       "phys_health_interview        category\n",
       "mental_vs_physical           category\n",
       "obs_consequence              category\n",
       "comments                       object\n",
       "Gender_bin                     object\n",
       "dtype: object"
      ]
     },
     "execution_count": 30,
     "metadata": {},
     "output_type": "execute_result"
    }
   ],
   "source": [
    "data2[\"family_history\"] = data2[\"family_history\"].astype('category')\n",
    "data2[\"treatment\"] = data2[\"treatment\"].astype('category')\n",
    "data2[\"work_interfere\"] = data2[\"work_interfere\"].astype('category')\n",
    "data2[\"remote_work\"] = data2[\"remote_work\"].astype('category')\n",
    "data2[\"tech_company\"] = data2[\"tech_company\"].astype('category')\n",
    "data2[\"benefits\"] = data2[\"benefits\"].astype('category')\n",
    "data2[\"care_options\"] = data2[\"care_options\"].astype('category')\n",
    "data2[\"wellness_program\"] = data2[\"wellness_program\"].astype('category')\n",
    "data2[\"seek_help\"] = data2[\"seek_help\"].astype('category')\n",
    "data2[\"anonymity\"] = data2[\"anonymity\"].astype('category')\n",
    "data2[\"mental_health_consequence\"] = data2[\"mental_health_consequence\"].astype('category')\n",
    "data2[\"phys_health_consequence\"] = data2[\"phys_health_consequence\"].astype('category')\n",
    "data2[\"coworkers\"] = data2[\"coworkers\"].astype('category')\n",
    "data2[\"supervisor\"] = data2[\"supervisor\"].astype('category')\n",
    "data2[\"mental_health_interview\"] = data2[\"mental_health_interview\"].astype('category')\n",
    "data2[\"phys_health_interview\"] = data2[\"phys_health_interview\"].astype('category')\n",
    "data2[\"mental_vs_physical\"] = data2[\"mental_vs_physical\"].astype('category')\n",
    "data2[\"obs_consequence\"] = data2[\"obs_consequence\"].astype('category')\n",
    "\n",
    "\n",
    "\n",
    "\n",
    "data2.dtypes"
   ]
  },
  {
   "cell_type": "code",
   "execution_count": 54,
   "metadata": {},
   "outputs": [
    {
     "name": "stdout",
     "output_type": "stream",
     "text": [
      "Index(['Age', 'self_employed', 'treatment', 'work_interfere', 'no_employees',\n",
      "       'remote_work', 'tech_company', 'benefits', 'care_options',\n",
      "       'wellness_program', 'seek_help', 'anonymity', 'leave',\n",
      "       'mental_health_consequence', 'phys_health_consequence', 'coworkers',\n",
      "       'supervisor', 'mental_health_interview', 'phys_health_interview',\n",
      "       'mental_vs_physical', 'obs_consequence', 'comments', 'Gender_bin',\n",
      "       'family_hist_cat'],\n",
      "      dtype='object')\n"
     ]
    }
   ],
   "source": [
    "#data2=data2.drop(['Gender'], axis=1)\n",
    "data2.head()\n",
    "print(data2.columns)\n",
    "#data2=data2.drop(['work_intefere_cat'],axis=1)\n"
   ]
  },
  {
   "cell_type": "code",
   "execution_count": 62,
   "metadata": {},
   "outputs": [
    {
     "data": {
      "text/html": [
       "<div>\n",
       "<style scoped>\n",
       "    .dataframe tbody tr th:only-of-type {\n",
       "        vertical-align: middle;\n",
       "    }\n",
       "\n",
       "    .dataframe tbody tr th {\n",
       "        vertical-align: top;\n",
       "    }\n",
       "\n",
       "    .dataframe thead th {\n",
       "        text-align: right;\n",
       "    }\n",
       "</style>\n",
       "<table border=\"1\" class=\"dataframe\">\n",
       "  <thead>\n",
       "    <tr style=\"text-align: right;\">\n",
       "      <th></th>\n",
       "      <th>Age</th>\n",
       "      <th>self_employed</th>\n",
       "      <th>treatment</th>\n",
       "      <th>work_interfere</th>\n",
       "      <th>no_employees</th>\n",
       "      <th>remote_work</th>\n",
       "      <th>tech_company</th>\n",
       "      <th>benefits</th>\n",
       "      <th>care_options</th>\n",
       "      <th>wellness_program</th>\n",
       "      <th>...</th>\n",
       "      <th>coworkers</th>\n",
       "      <th>supervisor</th>\n",
       "      <th>mental_health_interview</th>\n",
       "      <th>phys_health_interview</th>\n",
       "      <th>mental_vs_physical</th>\n",
       "      <th>obs_consequence</th>\n",
       "      <th>comments</th>\n",
       "      <th>Gender_bin</th>\n",
       "      <th>family_hist_cat</th>\n",
       "      <th>self_employed_cat</th>\n",
       "    </tr>\n",
       "  </thead>\n",
       "  <tbody>\n",
       "    <tr>\n",
       "      <th>0</th>\n",
       "      <td>37</td>\n",
       "      <td>Unknown</td>\n",
       "      <td>1</td>\n",
       "      <td>Often</td>\n",
       "      <td>2</td>\n",
       "      <td>0</td>\n",
       "      <td>Yes</td>\n",
       "      <td>Yes</td>\n",
       "      <td>Unknown</td>\n",
       "      <td>No</td>\n",
       "      <td>...</td>\n",
       "      <td>Unknown</td>\n",
       "      <td>Yes</td>\n",
       "      <td>No</td>\n",
       "      <td>Unknown</td>\n",
       "      <td>Yes</td>\n",
       "      <td>No</td>\n",
       "      <td>Unknown</td>\n",
       "      <td>Female</td>\n",
       "      <td>0</td>\n",
       "      <td>1</td>\n",
       "    </tr>\n",
       "    <tr>\n",
       "      <th>1</th>\n",
       "      <td>44</td>\n",
       "      <td>Unknown</td>\n",
       "      <td>0</td>\n",
       "      <td>Rarely</td>\n",
       "      <td>7</td>\n",
       "      <td>0</td>\n",
       "      <td>No</td>\n",
       "      <td>Unknown</td>\n",
       "      <td>No</td>\n",
       "      <td>Unknown</td>\n",
       "      <td>...</td>\n",
       "      <td>No</td>\n",
       "      <td>No</td>\n",
       "      <td>No</td>\n",
       "      <td>No</td>\n",
       "      <td>Unknown</td>\n",
       "      <td>No</td>\n",
       "      <td>Unknown</td>\n",
       "      <td>Male</td>\n",
       "      <td>0</td>\n",
       "      <td>1</td>\n",
       "    </tr>\n",
       "    <tr>\n",
       "      <th>2</th>\n",
       "      <td>32</td>\n",
       "      <td>Unknown</td>\n",
       "      <td>0</td>\n",
       "      <td>Rarely</td>\n",
       "      <td>2</td>\n",
       "      <td>0</td>\n",
       "      <td>Yes</td>\n",
       "      <td>No</td>\n",
       "      <td>No</td>\n",
       "      <td>No</td>\n",
       "      <td>...</td>\n",
       "      <td>Yes</td>\n",
       "      <td>Yes</td>\n",
       "      <td>Yes</td>\n",
       "      <td>Yes</td>\n",
       "      <td>No</td>\n",
       "      <td>No</td>\n",
       "      <td>Unknown</td>\n",
       "      <td>Male</td>\n",
       "      <td>0</td>\n",
       "      <td>1</td>\n",
       "    </tr>\n",
       "    <tr>\n",
       "      <th>3</th>\n",
       "      <td>31</td>\n",
       "      <td>Unknown</td>\n",
       "      <td>1</td>\n",
       "      <td>Often</td>\n",
       "      <td>3</td>\n",
       "      <td>0</td>\n",
       "      <td>Yes</td>\n",
       "      <td>No</td>\n",
       "      <td>Yes</td>\n",
       "      <td>No</td>\n",
       "      <td>...</td>\n",
       "      <td>Unknown</td>\n",
       "      <td>No</td>\n",
       "      <td>Unknown</td>\n",
       "      <td>Unknown</td>\n",
       "      <td>No</td>\n",
       "      <td>Yes</td>\n",
       "      <td>Unknown</td>\n",
       "      <td>Male</td>\n",
       "      <td>1</td>\n",
       "      <td>1</td>\n",
       "    </tr>\n",
       "    <tr>\n",
       "      <th>4</th>\n",
       "      <td>31</td>\n",
       "      <td>Unknown</td>\n",
       "      <td>0</td>\n",
       "      <td>Never</td>\n",
       "      <td>5</td>\n",
       "      <td>1</td>\n",
       "      <td>Yes</td>\n",
       "      <td>Yes</td>\n",
       "      <td>No</td>\n",
       "      <td>Unknown</td>\n",
       "      <td>...</td>\n",
       "      <td>Unknown</td>\n",
       "      <td>Yes</td>\n",
       "      <td>Yes</td>\n",
       "      <td>Yes</td>\n",
       "      <td>Unknown</td>\n",
       "      <td>No</td>\n",
       "      <td>Unknown</td>\n",
       "      <td>Male</td>\n",
       "      <td>0</td>\n",
       "      <td>1</td>\n",
       "    </tr>\n",
       "  </tbody>\n",
       "</table>\n",
       "<p>5 rows × 25 columns</p>\n",
       "</div>"
      ],
      "text/plain": [
       "   Age self_employed  treatment work_interfere  no_employees  remote_work  \\\n",
       "0   37       Unknown          1          Often             2            0   \n",
       "1   44       Unknown          0         Rarely             7            0   \n",
       "2   32       Unknown          0         Rarely             2            0   \n",
       "3   31       Unknown          1          Often             3            0   \n",
       "4   31       Unknown          0          Never             5            1   \n",
       "\n",
       "  tech_company benefits care_options wellness_program  ... coworkers  \\\n",
       "0          Yes      Yes      Unknown               No  ...   Unknown   \n",
       "1           No  Unknown           No          Unknown  ...        No   \n",
       "2          Yes       No           No               No  ...       Yes   \n",
       "3          Yes       No          Yes               No  ...   Unknown   \n",
       "4          Yes      Yes           No          Unknown  ...   Unknown   \n",
       "\n",
       "  supervisor  mental_health_interview phys_health_interview  \\\n",
       "0        Yes                       No               Unknown   \n",
       "1         No                       No                    No   \n",
       "2        Yes                      Yes                   Yes   \n",
       "3         No                  Unknown               Unknown   \n",
       "4        Yes                      Yes                   Yes   \n",
       "\n",
       "  mental_vs_physical obs_consequence comments Gender_bin family_hist_cat  \\\n",
       "0                Yes              No  Unknown     Female               0   \n",
       "1            Unknown              No  Unknown       Male               0   \n",
       "2                 No              No  Unknown       Male               0   \n",
       "3                 No             Yes  Unknown       Male               1   \n",
       "4            Unknown              No  Unknown       Male               0   \n",
       "\n",
       "  self_employed_cat  \n",
       "0                 1  \n",
       "1                 1  \n",
       "2                 1  \n",
       "3                 1  \n",
       "4                 1  \n",
       "\n",
       "[5 rows x 25 columns]"
      ]
     },
     "execution_count": 62,
     "metadata": {},
     "output_type": "execute_result"
    }
   ],
   "source": [
    "data2[\"self_employed\"] = data2[\"self_employed\"].astype('category')\n",
    "data2.dtypes\n",
    "data2[\"self_employed_cat\"] = data2[\"self_employed\"].cat.codes\n",
    "data2.head()\n"
   ]
  },
  {
   "cell_type": "code",
   "execution_count": null,
   "metadata": {},
   "outputs": [],
   "source": [
    "data2[\"self_employed_cat\"] = data2[\"self_employed\"].cat.codes"
   ]
  },
  {
   "cell_type": "code",
   "execution_count": 68,
   "metadata": {},
   "outputs": [],
   "source": [
    "data2[\"tech_company_cat\"] = data2[\"tech_company\"].cat.codes\n",
    "data2[\"benefits_cat\"] = data2[\"benefits\"].cat.codes\n",
    "data2[\"care_options_cat\"] = data2[\"care_options\"].cat.codes\n",
    "data2[\"wellness_program_cat\"] = data2[\"wellness_program\"].cat.codes\n",
    "data2[\"seek_help_cat\"] = data2[\"seek_help\"].cat.codes\n",
    "data2[\"anonymity_cat\"] = data2[\"anonymity\"].cat.codes\n",
    "data2[\"mental_health_consequence_cat\"] = data2[\"mental_health_consequence\"].cat.codes\n",
    "data2[\"phys_health_consequence_cat\"] = data2[\"phys_health_consequence\"].cat.codes\n",
    "data2[\"coworkers_cat\"] = data2[\"coworkers\"].cat.codes\n",
    "data2[\"supervisor_cat\"] = data2[\"supervisor\"].cat.codes\n",
    "data2[\"mental_health_interview_cat\"] = data2[\"mental_health_interview\"].cat.codes\n",
    "\n",
    "data2[\"phys_health_interview_cat\"] = data2[\"phys_health_interview\"].cat.codes\n",
    "\n",
    "data2[\"mental_vs_physical_cat\"] = data2[\"mental_vs_physical\"].cat.codes\n",
    "\n",
    "data2[\"obs_consequence_cat\"] = data2[\"obs_consequence\"].cat.codes\n",
    "\n",
    "\n"
   ]
  },
  {
   "cell_type": "code",
   "execution_count": 72,
   "metadata": {},
   "outputs": [
    {
     "name": "stdout",
     "output_type": "stream",
     "text": [
      "Index(['Age', 'self_employed', 'treatment', 'work_interfere', 'no_employees',\n",
      "       'remote_work', 'tech_company', 'benefits', 'care_options',\n",
      "       'wellness_program', 'seek_help', 'anonymity', 'leave',\n",
      "       'mental_health_consequence', 'phys_health_consequence', 'coworkers',\n",
      "       'supervisor', 'mental_health_interview', 'phys_health_interview',\n",
      "       'mental_vs_physical', 'obs_consequence', 'comments', 'Gender_bin',\n",
      "       'family_hist_cat', 'self_employed_cat', 'tech_company_cat',\n",
      "       'benefits_cat', 'care_options_cat', 'wellness_program_cat',\n",
      "       'seek_help_cat', 'anonymity_cat', 'mental_health_consequence_cat',\n",
      "       'phys_health_consequence_cat', 'coworkers_cat', 'supervisor_cat',\n",
      "       'mental_health_interview_cat', 'phys_health_interview_cat',\n",
      "       'mental_vs_physical_cat', 'obs_consequence_cat'],\n",
      "      dtype='object')\n"
     ]
    }
   ],
   "source": [
    "print(data2.columns)\n"
   ]
  },
  {
   "cell_type": "code",
   "execution_count": 41,
   "metadata": {},
   "outputs": [
    {
     "data": {
      "text/html": [
       "<div>\n",
       "<style scoped>\n",
       "    .dataframe tbody tr th:only-of-type {\n",
       "        vertical-align: middle;\n",
       "    }\n",
       "\n",
       "    .dataframe tbody tr th {\n",
       "        vertical-align: top;\n",
       "    }\n",
       "\n",
       "    .dataframe thead th {\n",
       "        text-align: right;\n",
       "    }\n",
       "</style>\n",
       "<table border=\"1\" class=\"dataframe\">\n",
       "  <thead>\n",
       "    <tr style=\"text-align: right;\">\n",
       "      <th></th>\n",
       "      <th>Unnamed: 0</th>\n",
       "      <th>Timestamp</th>\n",
       "      <th>Age</th>\n",
       "      <th>Gender</th>\n",
       "      <th>self_employed</th>\n",
       "      <th>treatment</th>\n",
       "      <th>no_employees</th>\n",
       "      <th>remote_work</th>\n",
       "      <th>tech_company</th>\n",
       "      <th>benefits</th>\n",
       "      <th>...</th>\n",
       "      <th>obs_consequence</th>\n",
       "      <th>comments</th>\n",
       "      <th>Gender_bin</th>\n",
       "      <th>family_hist_cat</th>\n",
       "      <th>work_intefere_cat</th>\n",
       "      <th>work_interfere_Never</th>\n",
       "      <th>work_interfere_Often</th>\n",
       "      <th>work_interfere_Rarely</th>\n",
       "      <th>work_interfere_Sometimes</th>\n",
       "      <th>work_interfere_Unknown</th>\n",
       "    </tr>\n",
       "  </thead>\n",
       "  <tbody>\n",
       "    <tr>\n",
       "      <th>0</th>\n",
       "      <td>0</td>\n",
       "      <td>8/27/2014 11:29</td>\n",
       "      <td>37</td>\n",
       "      <td>Female</td>\n",
       "      <td>Unknown</td>\n",
       "      <td>1</td>\n",
       "      <td>2</td>\n",
       "      <td>0</td>\n",
       "      <td>Yes</td>\n",
       "      <td>Yes</td>\n",
       "      <td>...</td>\n",
       "      <td>No</td>\n",
       "      <td>Unknown</td>\n",
       "      <td>Female</td>\n",
       "      <td>0</td>\n",
       "      <td>1</td>\n",
       "      <td>0</td>\n",
       "      <td>1</td>\n",
       "      <td>0</td>\n",
       "      <td>0</td>\n",
       "      <td>0</td>\n",
       "    </tr>\n",
       "    <tr>\n",
       "      <th>1</th>\n",
       "      <td>1</td>\n",
       "      <td>8/27/2014 11:29</td>\n",
       "      <td>44</td>\n",
       "      <td>M</td>\n",
       "      <td>Unknown</td>\n",
       "      <td>0</td>\n",
       "      <td>7</td>\n",
       "      <td>0</td>\n",
       "      <td>No</td>\n",
       "      <td>Unknown</td>\n",
       "      <td>...</td>\n",
       "      <td>No</td>\n",
       "      <td>Unknown</td>\n",
       "      <td>Male</td>\n",
       "      <td>0</td>\n",
       "      <td>2</td>\n",
       "      <td>0</td>\n",
       "      <td>0</td>\n",
       "      <td>1</td>\n",
       "      <td>0</td>\n",
       "      <td>0</td>\n",
       "    </tr>\n",
       "    <tr>\n",
       "      <th>2</th>\n",
       "      <td>2</td>\n",
       "      <td>8/27/2014 11:29</td>\n",
       "      <td>32</td>\n",
       "      <td>Male</td>\n",
       "      <td>Unknown</td>\n",
       "      <td>0</td>\n",
       "      <td>2</td>\n",
       "      <td>0</td>\n",
       "      <td>Yes</td>\n",
       "      <td>No</td>\n",
       "      <td>...</td>\n",
       "      <td>No</td>\n",
       "      <td>Unknown</td>\n",
       "      <td>Male</td>\n",
       "      <td>0</td>\n",
       "      <td>2</td>\n",
       "      <td>0</td>\n",
       "      <td>0</td>\n",
       "      <td>1</td>\n",
       "      <td>0</td>\n",
       "      <td>0</td>\n",
       "    </tr>\n",
       "    <tr>\n",
       "      <th>3</th>\n",
       "      <td>3</td>\n",
       "      <td>8/27/2014 11:29</td>\n",
       "      <td>31</td>\n",
       "      <td>Male</td>\n",
       "      <td>Unknown</td>\n",
       "      <td>1</td>\n",
       "      <td>3</td>\n",
       "      <td>0</td>\n",
       "      <td>Yes</td>\n",
       "      <td>No</td>\n",
       "      <td>...</td>\n",
       "      <td>Yes</td>\n",
       "      <td>Unknown</td>\n",
       "      <td>Male</td>\n",
       "      <td>1</td>\n",
       "      <td>1</td>\n",
       "      <td>0</td>\n",
       "      <td>1</td>\n",
       "      <td>0</td>\n",
       "      <td>0</td>\n",
       "      <td>0</td>\n",
       "    </tr>\n",
       "    <tr>\n",
       "      <th>4</th>\n",
       "      <td>4</td>\n",
       "      <td>8/27/2014 11:30</td>\n",
       "      <td>31</td>\n",
       "      <td>Male</td>\n",
       "      <td>Unknown</td>\n",
       "      <td>0</td>\n",
       "      <td>5</td>\n",
       "      <td>1</td>\n",
       "      <td>Yes</td>\n",
       "      <td>Yes</td>\n",
       "      <td>...</td>\n",
       "      <td>No</td>\n",
       "      <td>Unknown</td>\n",
       "      <td>Male</td>\n",
       "      <td>0</td>\n",
       "      <td>0</td>\n",
       "      <td>1</td>\n",
       "      <td>0</td>\n",
       "      <td>0</td>\n",
       "      <td>0</td>\n",
       "      <td>0</td>\n",
       "    </tr>\n",
       "  </tbody>\n",
       "</table>\n",
       "<p>5 rows × 32 columns</p>\n",
       "</div>"
      ],
      "text/plain": [
       "   Unnamed: 0        Timestamp  Age  Gender self_employed  treatment  \\\n",
       "0           0  8/27/2014 11:29   37  Female       Unknown          1   \n",
       "1           1  8/27/2014 11:29   44       M       Unknown          0   \n",
       "2           2  8/27/2014 11:29   32    Male       Unknown          0   \n",
       "3           3  8/27/2014 11:29   31    Male       Unknown          1   \n",
       "4           4  8/27/2014 11:30   31    Male       Unknown          0   \n",
       "\n",
       "   no_employees  remote_work tech_company benefits  ... obs_consequence  \\\n",
       "0             2            0          Yes      Yes  ...              No   \n",
       "1             7            0           No  Unknown  ...              No   \n",
       "2             2            0          Yes       No  ...              No   \n",
       "3             3            0          Yes       No  ...             Yes   \n",
       "4             5            1          Yes      Yes  ...              No   \n",
       "\n",
       "  comments Gender_bin family_hist_cat  work_intefere_cat work_interfere_Never  \\\n",
       "0  Unknown     Female               0                  1                    0   \n",
       "1  Unknown       Male               0                  2                    0   \n",
       "2  Unknown       Male               0                  2                    0   \n",
       "3  Unknown       Male               1                  1                    0   \n",
       "4  Unknown       Male               0                  0                    1   \n",
       "\n",
       "  work_interfere_Often work_interfere_Rarely work_interfere_Sometimes  \\\n",
       "0                    1                     0                        0   \n",
       "1                    0                     1                        0   \n",
       "2                    0                     1                        0   \n",
       "3                    1                     0                        0   \n",
       "4                    0                     0                        0   \n",
       "\n",
       "  work_interfere_Unknown  \n",
       "0                      0  \n",
       "1                      0  \n",
       "2                      0  \n",
       "3                      0  \n",
       "4                      0  \n",
       "\n",
       "[5 rows x 32 columns]"
      ]
     },
     "execution_count": 41,
     "metadata": {},
     "output_type": "execute_result"
    }
   ],
   "source": [
    "# we use one hot encoding for work_interfere\n",
    "pd.get_dummies(data2, columns=[\"work_interfere\"]).head()\n",
    "\n",
    "#putting the numerical attributes for work_intefere cat can be counterintuitive since this kind of encoding can fool algorithms\n",
    "#hence we should use dummy variables for work_intefere"
   ]
  },
  {
   "cell_type": "code",
   "execution_count": 77,
   "metadata": {},
   "outputs": [],
   "source": [
    "data2[\"work_interfere_cat\"] = data2[\"work_interfere\"].cat.codes"
   ]
  },
  {
   "cell_type": "code",
   "execution_count": 79,
   "metadata": {},
   "outputs": [],
   "source": [
    "data2.to_csv(\"C:/Users/saksh/Desktop/Personal Projects/Mental Health/finaldata.csv\")"
   ]
  },
  {
   "cell_type": "code",
   "execution_count": null,
   "metadata": {},
   "outputs": [],
   "source": []
  }
 ],
 "metadata": {
  "kernelspec": {
   "display_name": "Python 3",
   "language": "python",
   "name": "python3"
  },
  "language_info": {
   "codemirror_mode": {
    "name": "ipython",
    "version": 3
   },
   "file_extension": ".py",
   "mimetype": "text/x-python",
   "name": "python",
   "nbconvert_exporter": "python",
   "pygments_lexer": "ipython3",
   "version": "3.7.3"
  }
 },
 "nbformat": 4,
 "nbformat_minor": 2
}
