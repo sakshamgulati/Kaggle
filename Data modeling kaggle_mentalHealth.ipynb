{
 "cells": [
  {
   "cell_type": "code",
   "execution_count": 11,
   "metadata": {},
   "outputs": [],
   "source": [
    "import numpy as np\n",
    "import pandas as pd\n",
    "\n",
    "data= pd.read_csv(\"C:/Users/saksh/Desktop/Personal Projects/Mental Health/finaldata.csv\",header=0)\n"
   ]
  },
  {
   "cell_type": "code",
   "execution_count": 12,
   "metadata": {},
   "outputs": [
    {
     "data": {
      "text/html": [
       "<div>\n",
       "<style scoped>\n",
       "    .dataframe tbody tr th:only-of-type {\n",
       "        vertical-align: middle;\n",
       "    }\n",
       "\n",
       "    .dataframe tbody tr th {\n",
       "        vertical-align: top;\n",
       "    }\n",
       "\n",
       "    .dataframe thead th {\n",
       "        text-align: right;\n",
       "    }\n",
       "</style>\n",
       "<table border=\"1\" class=\"dataframe\">\n",
       "  <thead>\n",
       "    <tr style=\"text-align: right;\">\n",
       "      <th></th>\n",
       "      <th>header</th>\n",
       "      <th>Age</th>\n",
       "      <th>treatment</th>\n",
       "      <th>no_employees</th>\n",
       "      <th>remote_work</th>\n",
       "      <th>leave</th>\n",
       "      <th>Gender_bin</th>\n",
       "      <th>family_hist_cat</th>\n",
       "      <th>self_employed_cat</th>\n",
       "      <th>tech_company_cat</th>\n",
       "      <th>...</th>\n",
       "      <th>anonymity_cat</th>\n",
       "      <th>mental_health_consequence_cat</th>\n",
       "      <th>phys_health_consequence_cat</th>\n",
       "      <th>coworkers_cat</th>\n",
       "      <th>supervisor_cat</th>\n",
       "      <th>mental_health_interview_cat</th>\n",
       "      <th>phys_health_interview_cat</th>\n",
       "      <th>mental_vs_physical_cat</th>\n",
       "      <th>obs_consequence_cat</th>\n",
       "      <th>work_interfere_cat</th>\n",
       "    </tr>\n",
       "  </thead>\n",
       "  <tbody>\n",
       "    <tr>\n",
       "      <th>0</th>\n",
       "      <td>0</td>\n",
       "      <td>37</td>\n",
       "      <td>1</td>\n",
       "      <td>2</td>\n",
       "      <td>0</td>\n",
       "      <td>2</td>\n",
       "      <td>Female</td>\n",
       "      <td>0</td>\n",
       "      <td>1</td>\n",
       "      <td>1</td>\n",
       "      <td>...</td>\n",
       "      <td>2</td>\n",
       "      <td>0</td>\n",
       "      <td>0</td>\n",
       "      <td>1</td>\n",
       "      <td>2</td>\n",
       "      <td>0</td>\n",
       "      <td>1</td>\n",
       "      <td>2</td>\n",
       "      <td>0</td>\n",
       "      <td>1</td>\n",
       "    </tr>\n",
       "    <tr>\n",
       "      <th>1</th>\n",
       "      <td>1</td>\n",
       "      <td>44</td>\n",
       "      <td>0</td>\n",
       "      <td>7</td>\n",
       "      <td>0</td>\n",
       "      <td>0</td>\n",
       "      <td>Male</td>\n",
       "      <td>0</td>\n",
       "      <td>1</td>\n",
       "      <td>0</td>\n",
       "      <td>...</td>\n",
       "      <td>1</td>\n",
       "      <td>1</td>\n",
       "      <td>0</td>\n",
       "      <td>0</td>\n",
       "      <td>0</td>\n",
       "      <td>0</td>\n",
       "      <td>0</td>\n",
       "      <td>1</td>\n",
       "      <td>0</td>\n",
       "      <td>2</td>\n",
       "    </tr>\n",
       "    <tr>\n",
       "      <th>2</th>\n",
       "      <td>2</td>\n",
       "      <td>32</td>\n",
       "      <td>0</td>\n",
       "      <td>2</td>\n",
       "      <td>0</td>\n",
       "      <td>3</td>\n",
       "      <td>Male</td>\n",
       "      <td>0</td>\n",
       "      <td>1</td>\n",
       "      <td>1</td>\n",
       "      <td>...</td>\n",
       "      <td>1</td>\n",
       "      <td>0</td>\n",
       "      <td>0</td>\n",
       "      <td>2</td>\n",
       "      <td>2</td>\n",
       "      <td>2</td>\n",
       "      <td>2</td>\n",
       "      <td>0</td>\n",
       "      <td>0</td>\n",
       "      <td>2</td>\n",
       "    </tr>\n",
       "    <tr>\n",
       "      <th>3</th>\n",
       "      <td>3</td>\n",
       "      <td>31</td>\n",
       "      <td>1</td>\n",
       "      <td>3</td>\n",
       "      <td>0</td>\n",
       "      <td>3</td>\n",
       "      <td>Male</td>\n",
       "      <td>1</td>\n",
       "      <td>1</td>\n",
       "      <td>1</td>\n",
       "      <td>...</td>\n",
       "      <td>0</td>\n",
       "      <td>2</td>\n",
       "      <td>2</td>\n",
       "      <td>1</td>\n",
       "      <td>0</td>\n",
       "      <td>1</td>\n",
       "      <td>1</td>\n",
       "      <td>0</td>\n",
       "      <td>1</td>\n",
       "      <td>1</td>\n",
       "    </tr>\n",
       "    <tr>\n",
       "      <th>4</th>\n",
       "      <td>4</td>\n",
       "      <td>31</td>\n",
       "      <td>0</td>\n",
       "      <td>5</td>\n",
       "      <td>1</td>\n",
       "      <td>0</td>\n",
       "      <td>Male</td>\n",
       "      <td>0</td>\n",
       "      <td>1</td>\n",
       "      <td>1</td>\n",
       "      <td>...</td>\n",
       "      <td>1</td>\n",
       "      <td>0</td>\n",
       "      <td>0</td>\n",
       "      <td>1</td>\n",
       "      <td>2</td>\n",
       "      <td>2</td>\n",
       "      <td>2</td>\n",
       "      <td>1</td>\n",
       "      <td>0</td>\n",
       "      <td>0</td>\n",
       "    </tr>\n",
       "  </tbody>\n",
       "</table>\n",
       "<p>5 rows × 24 columns</p>\n",
       "</div>"
      ],
      "text/plain": [
       "   header  Age  treatment  no_employees  remote_work  leave Gender_bin  \\\n",
       "0       0   37          1             2            0      2     Female   \n",
       "1       1   44          0             7            0      0       Male   \n",
       "2       2   32          0             2            0      3       Male   \n",
       "3       3   31          1             3            0      3       Male   \n",
       "4       4   31          0             5            1      0       Male   \n",
       "\n",
       "   family_hist_cat  self_employed_cat  tech_company_cat  ...  anonymity_cat  \\\n",
       "0                0                  1                 1  ...              2   \n",
       "1                0                  1                 0  ...              1   \n",
       "2                0                  1                 1  ...              1   \n",
       "3                1                  1                 1  ...              0   \n",
       "4                0                  1                 1  ...              1   \n",
       "\n",
       "   mental_health_consequence_cat  phys_health_consequence_cat  coworkers_cat  \\\n",
       "0                              0                            0              1   \n",
       "1                              1                            0              0   \n",
       "2                              0                            0              2   \n",
       "3                              2                            2              1   \n",
       "4                              0                            0              1   \n",
       "\n",
       "   supervisor_cat  mental_health_interview_cat  phys_health_interview_cat  \\\n",
       "0               2                            0                          1   \n",
       "1               0                            0                          0   \n",
       "2               2                            2                          2   \n",
       "3               0                            1                          1   \n",
       "4               2                            2                          2   \n",
       "\n",
       "   mental_vs_physical_cat  obs_consequence_cat  work_interfere_cat  \n",
       "0                       2                    0                   1  \n",
       "1                       1                    0                   2  \n",
       "2                       0                    0                   2  \n",
       "3                       0                    1                   1  \n",
       "4                       1                    0                   0  \n",
       "\n",
       "[5 rows x 24 columns]"
      ]
     },
     "execution_count": 12,
     "metadata": {},
     "output_type": "execute_result"
    }
   ],
   "source": [
    "data.head()\n"
   ]
  },
  {
   "cell_type": "code",
   "execution_count": 13,
   "metadata": {},
   "outputs": [],
   "source": [
    "data[\"Gender_bin\"] = data[\"Gender_bin\"].astype('category')\n",
    "data[\"Gender_bin_cat\"] = data[\"Gender_bin\"].cat.codes"
   ]
  },
  {
   "cell_type": "code",
   "execution_count": 14,
   "metadata": {},
   "outputs": [],
   "source": [
    "data=data.drop(['Gender_bin'], axis=1)"
   ]
  },
  {
   "cell_type": "code",
   "execution_count": 15,
   "metadata": {},
   "outputs": [
    {
     "name": "stdout",
     "output_type": "stream",
     "text": [
      "['header', 'Age', 'treatment', 'no_employees', 'remote_work', 'leave', 'family_hist_cat', 'self_employed_cat', 'tech_company_cat', 'benefits_cat', 'care_options_cat', 'wellness_program_cat', 'seek_help_cat', 'anonymity_cat', 'mental_health_consequence_cat', 'phys_health_consequence_cat', 'coworkers_cat', 'supervisor_cat', 'mental_health_interview_cat', 'phys_health_interview_cat', 'mental_vs_physical_cat', 'obs_consequence_cat', 'work_interfere_cat', 'Gender_bin_cat']\n"
     ]
    }
   ],
   "source": [
    "columns=list(data.columns)\n",
    "print(columns)"
   ]
  },
  {
   "cell_type": "code",
   "execution_count": 61,
   "metadata": {},
   "outputs": [],
   "source": [
    "data_y=data.loc[:,\"treatment\"]\n",
    "data_X=data.drop([\"treatment\",\"header\"],axis=1)"
   ]
  },
  {
   "cell_type": "code",
   "execution_count": 62,
   "metadata": {},
   "outputs": [
    {
     "data": {
      "text/html": [
       "<div>\n",
       "<style scoped>\n",
       "    .dataframe tbody tr th:only-of-type {\n",
       "        vertical-align: middle;\n",
       "    }\n",
       "\n",
       "    .dataframe tbody tr th {\n",
       "        vertical-align: top;\n",
       "    }\n",
       "\n",
       "    .dataframe thead th {\n",
       "        text-align: right;\n",
       "    }\n",
       "</style>\n",
       "<table border=\"1\" class=\"dataframe\">\n",
       "  <thead>\n",
       "    <tr style=\"text-align: right;\">\n",
       "      <th></th>\n",
       "      <th>Age</th>\n",
       "      <th>no_employees</th>\n",
       "      <th>remote_work</th>\n",
       "      <th>leave</th>\n",
       "      <th>family_hist_cat</th>\n",
       "      <th>self_employed_cat</th>\n",
       "      <th>tech_company_cat</th>\n",
       "      <th>benefits_cat</th>\n",
       "      <th>care_options_cat</th>\n",
       "      <th>wellness_program_cat</th>\n",
       "      <th>...</th>\n",
       "      <th>mental_health_consequence_cat</th>\n",
       "      <th>phys_health_consequence_cat</th>\n",
       "      <th>coworkers_cat</th>\n",
       "      <th>supervisor_cat</th>\n",
       "      <th>mental_health_interview_cat</th>\n",
       "      <th>phys_health_interview_cat</th>\n",
       "      <th>mental_vs_physical_cat</th>\n",
       "      <th>obs_consequence_cat</th>\n",
       "      <th>work_interfere_cat</th>\n",
       "      <th>Gender_bin_cat</th>\n",
       "    </tr>\n",
       "  </thead>\n",
       "  <tbody>\n",
       "    <tr>\n",
       "      <th>0</th>\n",
       "      <td>37</td>\n",
       "      <td>2</td>\n",
       "      <td>0</td>\n",
       "      <td>2</td>\n",
       "      <td>0</td>\n",
       "      <td>1</td>\n",
       "      <td>1</td>\n",
       "      <td>2</td>\n",
       "      <td>1</td>\n",
       "      <td>0</td>\n",
       "      <td>...</td>\n",
       "      <td>0</td>\n",
       "      <td>0</td>\n",
       "      <td>1</td>\n",
       "      <td>2</td>\n",
       "      <td>0</td>\n",
       "      <td>1</td>\n",
       "      <td>2</td>\n",
       "      <td>0</td>\n",
       "      <td>1</td>\n",
       "      <td>0</td>\n",
       "    </tr>\n",
       "    <tr>\n",
       "      <th>1</th>\n",
       "      <td>44</td>\n",
       "      <td>7</td>\n",
       "      <td>0</td>\n",
       "      <td>0</td>\n",
       "      <td>0</td>\n",
       "      <td>1</td>\n",
       "      <td>0</td>\n",
       "      <td>1</td>\n",
       "      <td>0</td>\n",
       "      <td>1</td>\n",
       "      <td>...</td>\n",
       "      <td>1</td>\n",
       "      <td>0</td>\n",
       "      <td>0</td>\n",
       "      <td>0</td>\n",
       "      <td>0</td>\n",
       "      <td>0</td>\n",
       "      <td>1</td>\n",
       "      <td>0</td>\n",
       "      <td>2</td>\n",
       "      <td>1</td>\n",
       "    </tr>\n",
       "    <tr>\n",
       "      <th>2</th>\n",
       "      <td>32</td>\n",
       "      <td>2</td>\n",
       "      <td>0</td>\n",
       "      <td>3</td>\n",
       "      <td>0</td>\n",
       "      <td>1</td>\n",
       "      <td>1</td>\n",
       "      <td>0</td>\n",
       "      <td>0</td>\n",
       "      <td>0</td>\n",
       "      <td>...</td>\n",
       "      <td>0</td>\n",
       "      <td>0</td>\n",
       "      <td>2</td>\n",
       "      <td>2</td>\n",
       "      <td>2</td>\n",
       "      <td>2</td>\n",
       "      <td>0</td>\n",
       "      <td>0</td>\n",
       "      <td>2</td>\n",
       "      <td>1</td>\n",
       "    </tr>\n",
       "    <tr>\n",
       "      <th>3</th>\n",
       "      <td>31</td>\n",
       "      <td>3</td>\n",
       "      <td>0</td>\n",
       "      <td>3</td>\n",
       "      <td>1</td>\n",
       "      <td>1</td>\n",
       "      <td>1</td>\n",
       "      <td>0</td>\n",
       "      <td>2</td>\n",
       "      <td>0</td>\n",
       "      <td>...</td>\n",
       "      <td>2</td>\n",
       "      <td>2</td>\n",
       "      <td>1</td>\n",
       "      <td>0</td>\n",
       "      <td>1</td>\n",
       "      <td>1</td>\n",
       "      <td>0</td>\n",
       "      <td>1</td>\n",
       "      <td>1</td>\n",
       "      <td>1</td>\n",
       "    </tr>\n",
       "    <tr>\n",
       "      <th>4</th>\n",
       "      <td>31</td>\n",
       "      <td>5</td>\n",
       "      <td>1</td>\n",
       "      <td>0</td>\n",
       "      <td>0</td>\n",
       "      <td>1</td>\n",
       "      <td>1</td>\n",
       "      <td>2</td>\n",
       "      <td>0</td>\n",
       "      <td>1</td>\n",
       "      <td>...</td>\n",
       "      <td>0</td>\n",
       "      <td>0</td>\n",
       "      <td>1</td>\n",
       "      <td>2</td>\n",
       "      <td>2</td>\n",
       "      <td>2</td>\n",
       "      <td>1</td>\n",
       "      <td>0</td>\n",
       "      <td>0</td>\n",
       "      <td>1</td>\n",
       "    </tr>\n",
       "  </tbody>\n",
       "</table>\n",
       "<p>5 rows × 22 columns</p>\n",
       "</div>"
      ],
      "text/plain": [
       "   Age  no_employees  remote_work  leave  family_hist_cat  self_employed_cat  \\\n",
       "0   37             2            0      2                0                  1   \n",
       "1   44             7            0      0                0                  1   \n",
       "2   32             2            0      3                0                  1   \n",
       "3   31             3            0      3                1                  1   \n",
       "4   31             5            1      0                0                  1   \n",
       "\n",
       "   tech_company_cat  benefits_cat  care_options_cat  wellness_program_cat  \\\n",
       "0                 1             2                 1                     0   \n",
       "1                 0             1                 0                     1   \n",
       "2                 1             0                 0                     0   \n",
       "3                 1             0                 2                     0   \n",
       "4                 1             2                 0                     1   \n",
       "\n",
       "   ...  mental_health_consequence_cat  phys_health_consequence_cat  \\\n",
       "0  ...                              0                            0   \n",
       "1  ...                              1                            0   \n",
       "2  ...                              0                            0   \n",
       "3  ...                              2                            2   \n",
       "4  ...                              0                            0   \n",
       "\n",
       "   coworkers_cat  supervisor_cat  mental_health_interview_cat  \\\n",
       "0              1               2                            0   \n",
       "1              0               0                            0   \n",
       "2              2               2                            2   \n",
       "3              1               0                            1   \n",
       "4              1               2                            2   \n",
       "\n",
       "   phys_health_interview_cat  mental_vs_physical_cat  obs_consequence_cat  \\\n",
       "0                          1                       2                    0   \n",
       "1                          0                       1                    0   \n",
       "2                          2                       0                    0   \n",
       "3                          1                       0                    1   \n",
       "4                          2                       1                    0   \n",
       "\n",
       "   work_interfere_cat  Gender_bin_cat  \n",
       "0                   1               0  \n",
       "1                   2               1  \n",
       "2                   2               1  \n",
       "3                   1               1  \n",
       "4                   0               1  \n",
       "\n",
       "[5 rows x 22 columns]"
      ]
     },
     "execution_count": 62,
     "metadata": {},
     "output_type": "execute_result"
    }
   ],
   "source": [
    "data_X.head()"
   ]
  },
  {
   "cell_type": "code",
   "execution_count": 63,
   "metadata": {},
   "outputs": [
    {
     "data": {
      "text/plain": [
       "0    1\n",
       "1    0\n",
       "2    0\n",
       "3    1\n",
       "4    0\n",
       "Name: treatment, dtype: int64"
      ]
     },
     "execution_count": 63,
     "metadata": {},
     "output_type": "execute_result"
    }
   ],
   "source": [
    "data_y.head()"
   ]
  },
  {
   "cell_type": "code",
   "execution_count": 64,
   "metadata": {},
   "outputs": [],
   "source": [
    "X=data_X.values\n",
    "Y=data_y.values"
   ]
  },
  {
   "cell_type": "code",
   "execution_count": 70,
   "metadata": {},
   "outputs": [],
   "source": [
    "from sklearn.ensemble import AdaBoostClassifier\n",
    "from sklearn.tree import DecisionTreeClassifier\n",
    "import pandas as pd\n",
    "import numpy as np\n",
    "from sklearn.model_selection import train_test_split\n",
    "from sklearn.metrics import confusion_matrix\n",
    "from sklearn.preprocessing import LabelEncoder"
   ]
  },
  {
   "cell_type": "code",
   "execution_count": 74,
   "metadata": {},
   "outputs": [
    {
     "name": "stdout",
     "output_type": "stream",
     "text": [
      "<class 'pandas.core.arrays.categorical.Categorical'>\n"
     ]
    }
   ],
   "source": []
  },
  {
   "cell_type": "code",
   "execution_count": 75,
   "metadata": {},
   "outputs": [],
   "source": [
    "train_X, test_X, train_y, test_y = train_test_split(data_X, data_y, random_state=1)"
   ]
  },
  {
   "cell_type": "code",
   "execution_count": 81,
   "metadata": {},
   "outputs": [
    {
     "data": {
      "text/plain": [
       "AdaBoostClassifier(algorithm='SAMME.R',\n",
       "                   base_estimator=DecisionTreeClassifier(class_weight=None,\n",
       "                                                         criterion='gini',\n",
       "                                                         max_depth=1,\n",
       "                                                         max_features=None,\n",
       "                                                         max_leaf_nodes=None,\n",
       "                                                         min_impurity_decrease=0.0,\n",
       "                                                         min_impurity_split=None,\n",
       "                                                         min_samples_leaf=1,\n",
       "                                                         min_samples_split=2,\n",
       "                                                         min_weight_fraction_leaf=0.0,\n",
       "                                                         presort=False,\n",
       "                                                         random_state=None,\n",
       "                                                         splitter='best'),\n",
       "                   learning_rate=1.0, n_estimators=300, random_state=None)"
      ]
     },
     "execution_count": 81,
     "metadata": {},
     "output_type": "execute_result"
    }
   ],
   "source": [
    "classifier = AdaBoostClassifier(\n",
    "    DecisionTreeClassifier(max_depth=1),\n",
    "    n_estimators=300\n",
    ")\n",
    "classifier.fit(train_X, train_y)"
   ]
  },
  {
   "cell_type": "code",
   "execution_count": 82,
   "metadata": {},
   "outputs": [],
   "source": [
    "predictions = classifier.predict(test_X)"
   ]
  },
  {
   "cell_type": "code",
   "execution_count": 83,
   "metadata": {},
   "outputs": [
    {
     "data": {
      "text/plain": [
       "array([[113,  40],\n",
       "       [ 31, 129]], dtype=int64)"
      ]
     },
     "execution_count": 83,
     "metadata": {},
     "output_type": "execute_result"
    }
   ],
   "source": [
    "confusion_matrix(test_y, predictions)"
   ]
  },
  {
   "cell_type": "code",
   "execution_count": 84,
   "metadata": {},
   "outputs": [
    {
     "name": "stdout",
     "output_type": "stream",
     "text": [
      "0.7731629392971247\n"
     ]
    }
   ],
   "source": [
    "accuracy=(113+129)/(113+129+40+31)\n",
    "print(accuracy)"
   ]
  },
  {
   "cell_type": "code",
   "execution_count": 88,
   "metadata": {},
   "outputs": [],
   "source": [
    "importance=classifier.feature_importances_\n",
    "cols=data_X.columns"
   ]
  },
  {
   "cell_type": "code",
   "execution_count": 90,
   "metadata": {},
   "outputs": [
    {
     "name": "stdout",
     "output_type": "stream",
     "text": [
      "[('Age', 0.5566666666666666), ('no_employees', 0.07), ('remote_work', 0.006666666666666667), ('leave', 0.01), ('family_hist_cat', 0.01), ('self_employed_cat', 0.056666666666666664), ('tech_company_cat', 0.006666666666666667), ('benefits_cat', 0.03333333333333333), ('care_options_cat', 0.013333333333333334), ('wellness_program_cat', 0.013333333333333334), ('seek_help_cat', 0.023333333333333334), ('anonymity_cat', 0.02), ('mental_health_consequence_cat', 0.0033333333333333335), ('phys_health_consequence_cat', 0.0033333333333333335), ('coworkers_cat', 0.023333333333333334), ('supervisor_cat', 0.013333333333333334), ('mental_health_interview_cat', 0.016666666666666666), ('phys_health_interview_cat', 0.01), ('mental_vs_physical_cat', 0.013333333333333334), ('obs_consequence_cat', 0.0), ('work_interfere_cat', 0.08333333333333333), ('Gender_bin_cat', 0.013333333333333334)]\n"
     ]
    }
   ],
   "source": [
    "print(list(zip(cols,importance)))"
   ]
  },
  {
   "cell_type": "code",
   "execution_count": null,
   "metadata": {},
   "outputs": [],
   "source": []
  }
 ],
 "metadata": {
  "kernelspec": {
   "display_name": "Python 3",
   "language": "python",
   "name": "python3"
  },
  "language_info": {
   "codemirror_mode": {
    "name": "ipython",
    "version": 3
   },
   "file_extension": ".py",
   "mimetype": "text/x-python",
   "name": "python",
   "nbconvert_exporter": "python",
   "pygments_lexer": "ipython3",
   "version": "3.7.3"
  }
 },
 "nbformat": 4,
 "nbformat_minor": 2
}
